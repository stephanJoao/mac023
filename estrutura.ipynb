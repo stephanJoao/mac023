{
  "cells": [
    {
      "cell_type": "code",
      "execution_count": 45,
      "metadata": {
        "colab": {
          "base_uri": "https://localhost:8080/"
        },
        "id": "IT3OZSwlBSKg",
        "outputId": "732761fb-5d67-453e-fb89-d2b68681713f"
      },
      "outputs": [],
      "source": [
        "import numpy as np\n",
        "import pandas as pd\n",
        "import sympy as sp"
      ]
    },
    {
      "cell_type": "code",
      "execution_count": 46,
      "metadata": {
        "colab": {
          "base_uri": "https://localhost:8080/"
        },
        "id": "OTuneyD9I-tW",
        "outputId": "8a896062-19f2-404e-9569-8e6df14ae490"
      },
      "outputs": [
        {
          "data": {
            "text/html": [
              "<div>\n",
              "<style scoped>\n",
              "    .dataframe tbody tr th:only-of-type {\n",
              "        vertical-align: middle;\n",
              "    }\n",
              "\n",
              "    .dataframe tbody tr th {\n",
              "        vertical-align: top;\n",
              "    }\n",
              "\n",
              "    .dataframe thead th {\n",
              "        text-align: right;\n",
              "    }\n",
              "</style>\n",
              "<table border=\"1\" class=\"dataframe\">\n",
              "  <thead>\n",
              "    <tr style=\"text-align: right;\">\n",
              "      <th></th>\n",
              "      <th>0</th>\n",
              "      <th>1</th>\n",
              "      <th>2</th>\n",
              "      <th>3</th>\n",
              "      <th>4</th>\n",
              "      <th>5</th>\n",
              "    </tr>\n",
              "  </thead>\n",
              "  <tbody>\n",
              "    <tr>\n",
              "      <th>0</th>\n",
              "      <td>3</td>\n",
              "      <td>NaN</td>\n",
              "      <td>NaN</td>\n",
              "      <td>NaN</td>\n",
              "      <td>NaN</td>\n",
              "      <td>NaN</td>\n",
              "    </tr>\n",
              "    <tr>\n",
              "      <th>1</th>\n",
              "      <td>1</td>\n",
              "      <td>0.0</td>\n",
              "      <td>0.0</td>\n",
              "      <td>1.0</td>\n",
              "      <td>1.0</td>\n",
              "      <td>1.0</td>\n",
              "    </tr>\n",
              "    <tr>\n",
              "      <th>2</th>\n",
              "      <td>2</td>\n",
              "      <td>0.0</td>\n",
              "      <td>6.0</td>\n",
              "      <td>0.0</td>\n",
              "      <td>0.0</td>\n",
              "      <td>0.0</td>\n",
              "    </tr>\n",
              "    <tr>\n",
              "      <th>3</th>\n",
              "      <td>3</td>\n",
              "      <td>4.0</td>\n",
              "      <td>6.0</td>\n",
              "      <td>1.0</td>\n",
              "      <td>1.0</td>\n",
              "      <td>1.0</td>\n",
              "    </tr>\n",
              "    <tr>\n",
              "      <th>4</th>\n",
              "      <td>2</td>\n",
              "      <td>NaN</td>\n",
              "      <td>NaN</td>\n",
              "      <td>NaN</td>\n",
              "      <td>NaN</td>\n",
              "      <td>NaN</td>\n",
              "    </tr>\n",
              "    <tr>\n",
              "      <th>5</th>\n",
              "      <td>1</td>\n",
              "      <td>1.0</td>\n",
              "      <td>2.0</td>\n",
              "      <td>1.0</td>\n",
              "      <td>1.0</td>\n",
              "      <td>1.0</td>\n",
              "    </tr>\n",
              "    <tr>\n",
              "      <th>6</th>\n",
              "      <td>2</td>\n",
              "      <td>2.0</td>\n",
              "      <td>3.0</td>\n",
              "      <td>1.0</td>\n",
              "      <td>1.0</td>\n",
              "      <td>1.0</td>\n",
              "    </tr>\n",
              "    <tr>\n",
              "      <th>7</th>\n",
              "      <td>2</td>\n",
              "      <td>NaN</td>\n",
              "      <td>NaN</td>\n",
              "      <td>NaN</td>\n",
              "      <td>NaN</td>\n",
              "      <td>NaN</td>\n",
              "    </tr>\n",
              "    <tr>\n",
              "      <th>8</th>\n",
              "      <td>2</td>\n",
              "      <td>10.0</td>\n",
              "      <td>0.0</td>\n",
              "      <td>0.0</td>\n",
              "      <td>NaN</td>\n",
              "      <td>NaN</td>\n",
              "    </tr>\n",
              "    <tr>\n",
              "      <th>9</th>\n",
              "      <td>2</td>\n",
              "      <td>0.0</td>\n",
              "      <td>-6.0</td>\n",
              "      <td>0.0</td>\n",
              "      <td>NaN</td>\n",
              "      <td>NaN</td>\n",
              "    </tr>\n",
              "    <tr>\n",
              "      <th>10</th>\n",
              "      <td>0</td>\n",
              "      <td>NaN</td>\n",
              "      <td>NaN</td>\n",
              "      <td>NaN</td>\n",
              "      <td>NaN</td>\n",
              "      <td>NaN</td>\n",
              "    </tr>\n",
              "  </tbody>\n",
              "</table>\n",
              "</div>"
            ],
            "text/plain": [
              "    0     1    2    3    4    5\n",
              "0   3   NaN  NaN  NaN  NaN  NaN\n",
              "1   1   0.0  0.0  1.0  1.0  1.0\n",
              "2   2   0.0  6.0  0.0  0.0  0.0\n",
              "3   3   4.0  6.0  1.0  1.0  1.0\n",
              "4   2   NaN  NaN  NaN  NaN  NaN\n",
              "5   1   1.0  2.0  1.0  1.0  1.0\n",
              "6   2   2.0  3.0  1.0  1.0  1.0\n",
              "7   2   NaN  NaN  NaN  NaN  NaN\n",
              "8   2  10.0  0.0  0.0  NaN  NaN\n",
              "9   2   0.0 -6.0  0.0  NaN  NaN\n",
              "10  0   NaN  NaN  NaN  NaN  NaN"
            ]
          },
          "execution_count": 46,
          "metadata": {},
          "output_type": "execute_result"
        }
      ],
      "source": [
        "# df = extract(key)\n",
        "df = pd.read_excel('Pórtico 1.xlsx', header=None)\n",
        "df\n",
        "\n",
        "# número de nós\n",
        "# x / y / restrição em x / restrição em y / restrição momento\n",
        "# número de barras\n",
        "# nó inicial / nó final / módulo de elasticidade / área / momento de inércia\n",
        "# número de cargas em nós\n",
        "# nó / valor da carga x / valor da carga y / valor do momento\n",
        "# número de cargas em barras\n",
        "# barra / direção / inicio da carga / fim da carga / valor da carga no inicio / valor da carga no fim"
      ]
    },
    {
      "cell_type": "code",
      "execution_count": 47,
      "metadata": {},
      "outputs": [],
      "source": [
        "class node:\n",
        "\tdef __init__(self, x, y, constraints):\n",
        "\t\tself.x = x\n",
        "\t\tself.y = y\n",
        "\t\tself.constraints = constraints\n",
        "\t\tself.loads = [0, 0, 0]\n",
        "\n",
        "\tdef add_load(self, load, direction):\n",
        "\t\tself.loads[direction] += load\n",
        "\n",
        "\tdef __str__(self):\n",
        "\t\treturn f'Node - x: {self.x}, y: {self.y}, constraints: {self.constraints}'"
      ]
    },
    {
      "cell_type": "code",
      "execution_count": 48,
      "metadata": {},
      "outputs": [],
      "source": [
        "class element:\n",
        "\tdef __init__(self, node1, node2, E, A, I):\n",
        "\t\tself.node1 = node1\n",
        "\t\tself.node2 = node2\n",
        "\t\tself.L = np.sqrt((node1.x - node2.x)**2 + (node1.y - node2.y)**2)\n",
        "\t\tself.E = E\n",
        "\t\tself.A = A\n",
        "\t\tself.I = I\n",
        "\t\tself.rotation = -np.rad2deg(np.arctan((node2.y - node1.y) / (node2.x - node1.x)))\n",
        "\n",
        "\tdef __str__(self):\n",
        "\t\treturn f'Element - node1: {self.node1}, node2: {self.node2}, L: {self.L}, E: {self.E}, A: {self.A}, I: {self.I}, rotation: {self.rotation}'\n"
      ]
    },
    {
      "cell_type": "code",
      "execution_count": 49,
      "metadata": {},
      "outputs": [],
      "source": [
        "class structure:\n",
        "\tdef __init__(self, df):\n",
        "\t\tself.nodes = {}\n",
        "\t\tself.elements = {}\n",
        "\t\tself.freedom_degrees = 0\n",
        "\n",
        "\t\t# leitura dos nós\n",
        "\t\tpos = 0\n",
        "\t\tn_nodes = df.iloc[pos, 0]\n",
        "\t\tpos = pos + 1\n",
        "\n",
        "\t\tfor _ in range(1, n_nodes+1):\n",
        "\t\t\tself.nodes[df.iloc[pos, 0]] = node(df.iloc[pos, 1], df.iloc[pos, 2], [df.iloc[pos, 3], df.iloc[pos, 4], df.iloc[pos, 5]])\n",
        "\t\t\tpos += 1\n",
        "\t\t\n",
        "\t\t# leitura dos elementos\n",
        "\t\tn_elements = df.iloc[pos, 0]\n",
        "\t\tpos = pos + 1\n",
        "\n",
        "\t\tfor _ in range(1, n_elements+1):\n",
        "\t\t\tself.elements[df.iloc[pos, 0]] = element(self.nodes[df.iloc[pos, 1]], self.nodes[df.iloc[pos, 2]], df.iloc[pos, 3], df.iloc[pos, 4], df.iloc[pos, 5])\n",
        "\t\t\tpos += 1\n",
        "\n",
        "\t\t# leitura das cargas nos nós\n",
        "\t\tn_loads = df.iloc[pos, 0]\n",
        "\t\tpos = pos + 1\n",
        "\n",
        "\t\tfor _ in range(1, n_loads+1):\n",
        "\t\t\tself.nodes[df.iloc[pos, 0]].add_load(df.iloc[pos, 1], 0)\n",
        "\t\t\tself.nodes[df.iloc[pos, 0]].add_load(df.iloc[pos, 2], 1)\n",
        "\t\t\tself.nodes[df.iloc[pos, 0]].add_load(df.iloc[pos, 3], 2)\n",
        "\t\t\tpos += 1\n",
        "\n",
        "\t\t# leitura das cargas nas barras (já convertendo para cargas nos nós)\n",
        "\t\tn_elements_loads = df.iloc[pos, 0]\n",
        "\t\tpos = pos + 1\n",
        "\n",
        "\t\tfor _ in range(1, n_elements_loads+1):\n",
        "\t\t\tif df.iloc[pos, 1] == 0:\n",
        "\t\t\t\tif df.iloc[pos, 2] != df.iloc[pos, 3]:\n",
        "\t\t\t\t\tprint('There is no distributed load on the axial direction')\n",
        "\t\t\t\telse:\n",
        "\t\t\t\t\tif df.iloc[pos, 4] != df.iloc[pos, 5]:\n",
        "\t\t\t\t\t\tprint('A single load cannot have two different values')\n",
        "\t\t\t\t\telse:\n",
        "\t\t\t\t\t\tcurrent_element = self.elements[df.iloc[pos, 0]]\n",
        "\t\t\t\t\t\tl = current_element.L\n",
        "\t\t\t\t\t\ta = df.iloc[pos, 2] * l\n",
        "\t\t\t\t\t\tb = l - a\n",
        "\t\t\t\t\t\tP = df.iloc[pos, 4]\n",
        "\t\t\t\t\t\tcurrent_element.node1.add_load(- P * b / l, 0)\n",
        "\t\t\t\t\t\tcurrent_element.node2.add_load(- P * a / l, 0)\n",
        "\t\t\t\tpass\n",
        "\t\t\telif df.iloc[pos, 1] == 1:\n",
        "\t\t\t\tif df.iloc[pos, 4] != df.iloc[pos, 5]:\n",
        "\t\t\t\t\tif df.iloc[pos, 4] != 0 and df.iloc[pos, 5] != 0:\n",
        "\t\t\t\t\t\tprint('One of the values of the distributed linear load must be zero')\n",
        "\t\t\t\t\telse:\n",
        "\t\t\t\t\t\tif not (df.iloc[pos, 2] == 0 and df.iloc[pos, 3] == 1) and not (df.iloc[pos, 2] == 1 and df.iloc[pos, 3] == 0):\n",
        "\t\t\t\t\t\t\tprint('Linear distributed load cannot be in the middle of the element')\n",
        "\t\t\t\t\t\telse:\n",
        "\t\t\t\t\t\t\tif df.iloc[pos, 4] == 0:\n",
        "\t\t\t\t\t\t\t\tcurrent_element = self.elements[df.iloc[pos, 0]]\n",
        "\t\t\t\t\t\t\t\tl = current_element.L\n",
        "\t\t\t\t\t\t\t\tq = df.iloc[pos, 5]\n",
        "\t\t\t\t\t\t\t\tcurrent_element.node1.add_load(q * l**2 / 30, 2)\n",
        "\t\t\t\t\t\t\t\tcurrent_element.node2.add_load(-q * l**2 / 20, 2)\n",
        "\t\t\t\t\t\t\telse:\n",
        "\t\t\t\t\t\t\t\tcurrent_element = self.elements[df.iloc[pos, 0]]\n",
        "\t\t\t\t\t\t\t\tl = current_element.L\n",
        "\t\t\t\t\t\t\t\tq = df.iloc[pos, 4]\n",
        "\t\t\t\t\t\t\t\tcurrent_element.node1.add_load(q * l**2 / 20, 2)\n",
        "\t\t\t\t\t\t\t\tcurrent_element.node2.add_load(-q * l**2 / 30, 2)\n",
        "\t\t\t\telse:\n",
        "\t\t\t\t\tif df.iloc[pos, 2] == df.iloc[pos, 3]:\n",
        "\t\t\t\t\t\tprint(df.iloc[pos, 2])\n",
        "\t\t\t\t\t\tprint(df.iloc[pos, 3])\n",
        "\t\t\t\t\t\tprint('carga pontual no meio')\n",
        "\t\t\t\t\t\tcurrent_element = self.elements[df.iloc[pos, 0]]\n",
        "\t\t\t\t\t\tl = current_element.L\n",
        "\t\t\t\t\t\tP = df.iloc[pos, 4]\n",
        "\t\t\t\t\t\ta = df.iloc[pos, 2] * l\n",
        "\t\t\t\t\t\tb = l - a\n",
        "\t\t\t\t\t\tcurrent_element.node1.add_load(P * a * b**2 / l**2, 2)\n",
        "\t\t\t\t\t\tcurrent_element.node2.add_load(-P * a**2 * b / l**2, 2)\n",
        "\t\t\t\t\telse:\n",
        "\t\t\t\t\t\tprint(df.iloc[pos, 2])\n",
        "\t\t\t\t\t\tprint(df.iloc[pos, 3])\n",
        "\t\t\t\t\t\tprint(' carga distriboi')\n",
        "\t\t\t\t\t\tcurrent_element = self.elements[df.iloc[pos, 0]]\n",
        "\t\t\t\t\t\tl = current_element.L\n",
        "\t\t\t\t\t\tq = df.iloc[pos, 4]\n",
        "\t\t\t\t\t\taux = abs(df.iloc[pos, 2] - df.iloc[pos, 3])\n",
        "\t\t\t\t\t\tc = aux * l\n",
        "\t\t\t\t\t\ta = (df.iloc[pos, 2] + aux/2) * l\n",
        "\t\t\t\t\t\tb = l - a\n",
        "\t\t\t\t\t\tcurrent_element.node1.add_load(q * c / 12 / l**2 * (12 * a * b**2 + c**2 * (l - 3 * b)), 2)\n",
        "\t\t\t\t\t\tcurrent_element.node2.add_load(-q * c / 12 / l**2 * (12 * a**2 * b + c**2 * (l - 3 * a)), 2)\n",
        "\t\t\telif df.iloc[pos, 1] == 2:\n",
        "\t\t\t\tif df.iloc[pos, 2] != df.iloc[pos, 3]:\n",
        "\t\t\t\t\tprint('There is no distributed moment')\n",
        "\t\t\t\telse:\n",
        "\t\t\t\t\tif df.iloc[pos, 4] != df.iloc[pos, 5]:\n",
        "\t\t\t\t\t\tprint('A single moment cannot have two different values')\n",
        "\t\t\t\t\telse:\n",
        "\t\t\t\t\t\tcurrent_element = self.elements[df.iloc[pos, 0]]\n",
        "\t\t\t\t\t\tl = current_element.L\n",
        "\t\t\t\t\t\ta = df.iloc[pos, 2] * l\n",
        "\t\t\t\t\t\tb = l - a\n",
        "\t\t\t\t\t\tM = df.iloc[pos, 4]\n",
        "\t\t\t\t\t\tcurrent_element.node1.add_load((M * b / l) * (2 - 3 * b / l), 2)\n",
        "\t\t\t\t\t\tcurrent_element.node2.add_load((M * a / l) * (2 - 3 * a / l), 2)\n",
        "\t\t\t\tpass\n",
        "\t\t\telse:\n",
        "\t\t\t\tprint('Invalid load direction')\n",
        "\t\t\tpos += 1\n",
        "\n",
        "\t\t# cálculo dos graus de liberdade\n",
        "\t\tfor key, value in self.nodes.items():\n",
        "\t\t\tfor i in range(3):\n",
        "\t\t\t\tif value.constraints[i] == 0:\n",
        "\t\t\t\t\tself.freedom_degrees += 1\n",
        "\n",
        "\tdef __str__(self):\n",
        "\t\ts = 'Structure\\n'\t\n",
        "\t\ts += '... Nodes:\\n'\n",
        "\t\tfor key, value in self.nodes.items():\n",
        "\t\t\ts += f'....... {key}: {value}\\n'\n",
        "\t\ts += '... Elements:\\n'\n",
        "\t\tfor key, value in self.elements.items():\n",
        "\t\t\ts += f'....... {key}: {value}\\n'\n",
        "\t\ts += f'... Freedom degrees: {self.freedom_degrees}\\n'\n",
        "\t\treturn s"
      ]
    },
    {
      "cell_type": "code",
      "execution_count": 50,
      "metadata": {},
      "outputs": [
        {
          "name": "stdout",
          "output_type": "stream",
          "text": [
            "1 [0, 0, 0]\n",
            "2 [10.0, -6.0, 0.0]\n",
            "3 [0, 0, 0]\n",
            "Structure\n",
            "... Nodes:\n",
            "....... 1: Node - x: 0.0, y: 0.0, constraints: [1.0, 1.0, 1.0]\n",
            "....... 2: Node - x: 0.0, y: 6.0, constraints: [0.0, 0.0, 0.0]\n",
            "....... 3: Node - x: 4.0, y: 6.0, constraints: [1.0, 1.0, 1.0]\n",
            "... Elements:\n",
            "....... 1: Element - node1: Node - x: 0.0, y: 0.0, constraints: [1.0, 1.0, 1.0], node2: Node - x: 0.0, y: 6.0, constraints: [0.0, 0.0, 0.0], L: 6.0, E: 1.0, A: 1.0, I: 1.0, rotation: -90.0\n",
            "....... 2: Element - node1: Node - x: 0.0, y: 6.0, constraints: [0.0, 0.0, 0.0], node2: Node - x: 4.0, y: 6.0, constraints: [1.0, 1.0, 1.0], L: 4.0, E: 1.0, A: 1.0, I: 1.0, rotation: -0.0\n",
            "... Freedom degrees: 3\n",
            "\n"
          ]
        },
        {
          "name": "stderr",
          "output_type": "stream",
          "text": [
            "C:\\Users\\joaos\\AppData\\Local\\Temp\\ipykernel_15000\\664103471.py:9: RuntimeWarning: divide by zero encountered in scalar divide\n",
            "  self.rotation = -np.rad2deg(np.arctan((node2.y - node1.y) / (node2.x - node1.x)))\n"
          ]
        }
      ],
      "source": [
        "s = structure(df)\n",
        "\n",
        "for key, value in s.nodes.items():\n",
        "\tprint(key, value.loads)\n",
        "\n",
        "print(s)"
      ]
    },
    {
      "cell_type": "code",
      "execution_count": 51,
      "metadata": {},
      "outputs": [
        {
          "data": {
            "text/latex": [
              "$\\displaystyle \\left[\\begin{matrix}\\frac{A E}{L} & 0 & 0 & - \\frac{A E}{L} & 0 & 0\\\\0 & \\frac{12 E I}{L^{3}} & \\frac{6 E I}{L^{2}} & 0 & - \\frac{12 E I}{L^{3}} & \\frac{6 E I}{L^{2}}\\\\0 & \\frac{6 E I}{L^{2}} & \\frac{4 E I}{L} & 0 & - \\frac{6 E I}{L^{2}} & \\frac{2 E I}{L}\\\\- \\frac{A E}{L} & 0 & 0 & \\frac{A E}{L} & 0 & 0\\\\0 & - \\frac{12 E I}{L^{3}} & - \\frac{6 E I}{L^{2}} & 0 & \\frac{12 E I}{L^{3}} & - \\frac{6 E I}{L^{2}}\\\\0 & \\frac{6 E I}{L^{2}} & \\frac{2 E I}{L} & 0 & - \\frac{6 E I}{L^{2}} & \\frac{4 E I}{L}\\end{matrix}\\right]$"
            ],
            "text/plain": [
              "Matrix([\n",
              "[ A*E/L,            0,           0, -A*E/L,            0,           0],\n",
              "[     0,  12*E*I/L**3,  6*E*I/L**2,      0, -12*E*I/L**3,  6*E*I/L**2],\n",
              "[     0,   6*E*I/L**2,     4*E*I/L,      0,  -6*E*I/L**2,     2*E*I/L],\n",
              "[-A*E/L,            0,           0,  A*E/L,            0,           0],\n",
              "[     0, -12*E*I/L**3, -6*E*I/L**2,      0,  12*E*I/L**3, -6*E*I/L**2],\n",
              "[     0,   6*E*I/L**2,     2*E*I/L,      0,  -6*E*I/L**2,     4*E*I/L]])"
            ]
          },
          "metadata": {},
          "output_type": "display_data"
        }
      ],
      "source": [
        "from sympy import symbols\n",
        "from sympy.abc import E, A, I, L, theta\n",
        "\n",
        "K = [[ A*E/L,            0,           0,      -A*E/L,            0,           0],\n",
        "\t [     0,  12*E*I/L**3,  6*E*I/L**2,           0, -12*E*I/L**3,  6*E*I/L**2],\n",
        "\t [     0,   6*E*I/L**2,     4*E*I/L,           0,  -6*E*I/L**2,     2*E*I/L],\n",
        "\t [-A*E/L,            0,           0,       A*E/L,            0,           0],\n",
        "\t [     0, -12*E*I/L**3, -6*E*I/L**2,           0,  12*E*I/L**3, -6*E*I/L**2],\n",
        "\t [     0,   6*E*I/L**2,     2*E*I/L,           0,  -6*E*I/L**2,     4*E*I/L]]\n",
        "\n",
        "# tensor of rotation\n",
        "T = [[ sp.cos(theta), sp.sin(theta), 0,              0,             0, 0],\n",
        "\t [-sp.sin(theta), sp.cos(theta), 0,              0,             0, 0],\n",
        "\t [             0,             0, 1,              0,             0, 0],\n",
        "\t [             0,             0, 0,  sp.cos(theta), sp.sin(theta), 0],\n",
        "\t [             0,             0, 0, -sp.sin(theta), sp.cos(theta), 0],\n",
        "\t [             0,             0, 0,              0,             0, 1]]\n",
        "\n",
        "display(sp.Matrix(K))"
      ]
    },
    {
      "cell_type": "code",
      "execution_count": 52,
      "metadata": {},
      "outputs": [
        {
          "data": {
            "text/latex": [
              "$\\displaystyle \\left[\\begin{matrix}0 & 0 & 0 & 0 & 0 & 0\\\\0 & 0 & 0 & 0 & 0 & 0\\\\0 & 0 & 0 & 0 & 0 & 0\\\\0 & 0 & 0 & 0.0555555555555556 & -6.80359332859641 \\cdot 10^{-18} & -0.166666666666667\\\\0 & 0 & 0 & -6.80359332859641 \\cdot 10^{-18} & 0.166666666666667 & -1.02053899928946 \\cdot 10^{-17}\\\\0 & 0 & 0 & -0.166666666666667 & -1.02053899928946 \\cdot 10^{-17} & 0.666666666666667\\end{matrix}\\right]$"
            ],
            "text/plain": [
              "Matrix([\n",
              "[0, 0, 0,                     0,                     0,                     0],\n",
              "[0, 0, 0,                     0,                     0,                     0],\n",
              "[0, 0, 0,                     0,                     0,                     0],\n",
              "[0, 0, 0,    0.0555555555555556, -6.80359332859641e-18,    -0.166666666666667],\n",
              "[0, 0, 0, -6.80359332859641e-18,     0.166666666666667, -1.02053899928946e-17],\n",
              "[0, 0, 0,    -0.166666666666667, -1.02053899928946e-17,     0.666666666666667]])"
            ]
          },
          "metadata": {},
          "output_type": "display_data"
        },
        {
          "data": {
            "text/latex": [
              "$\\displaystyle \\left[\\begin{matrix}0.25 & 0 & 0 & 0 & 0 & 0\\\\0 & 0.1875 & 0.375 & 0 & 0 & 0\\\\0 & 0.375 & 1.0 & 0 & 0 & 0\\\\0 & 0 & 0 & 0 & 0 & 0\\\\0 & 0 & 0 & 0 & 0 & 0\\\\0 & 0 & 0 & 0 & 0 & 0\\end{matrix}\\right]$"
            ],
            "text/plain": [
              "Matrix([\n",
              "[0.25,      0,     0, 0, 0, 0],\n",
              "[   0, 0.1875, 0.375, 0, 0, 0],\n",
              "[   0,  0.375,   1.0, 0, 0, 0],\n",
              "[   0,      0,     0, 0, 0, 0],\n",
              "[   0,      0,     0, 0, 0, 0],\n",
              "[   0,      0,     0, 0, 0, 0]])"
            ]
          },
          "metadata": {},
          "output_type": "display_data"
        }
      ],
      "source": [
        "K_locals = {}\n",
        "\n",
        "# calculate local matrixes for each element\n",
        "for key, value in s.elements.items():\n",
        "\t# calculate local matrix\n",
        "\tK_local = sp.Matrix(K).subs([(E, value.E), (A, value.A), (I, value.I), (L, value.L)])\n",
        "\t# substitute theta\n",
        "\trot = sp.Matrix(T).subs([(theta, np.deg2rad(value.rotation))])\t\n",
        "\t# rotate local matrix using tensor of rotation\n",
        "\tK_local = sp.Matrix(rot).T * K_local * sp.Matrix(rot)\n",
        "\t# put 0 in the matrix where the node is fixed\n",
        "\tleft_constraints = value.node1.constraints\n",
        "\tright_constraints = value.node2.constraints\n",
        "\tfor i in range(3):\n",
        "\t\tif left_constraints[i] == 1:\n",
        "\t\t\tfor j in range(6):\n",
        "\t\t\t\tK_local[j, i] = 0\n",
        "\t\t\t\tK_local[i, j] = 0\n",
        "\t\tif right_constraints[i] == 1:\n",
        "\t\t\tfor j in range(6):\n",
        "\t\t\t\tK_local[j, 3+i] = 0\n",
        "\t\t\t\tK_local[3+i, j] = 0\n",
        "\t# add local matrix to dictionary\n",
        "\tK_locals[key] = K_local\n",
        "\tdisplay(sp.Matrix(K_local))"
      ]
    },
    {
      "cell_type": "code",
      "execution_count": 53,
      "metadata": {},
      "outputs": [
        {
          "data": {
            "text/latex": [
              "$\\displaystyle \\left[\\begin{matrix}0 & 0 & 0 & 0 & 0 & 0 & 0 & 0 & 0\\\\0 & 0 & 0 & 0 & 0 & 0 & 0 & 0 & 0\\\\0 & 0 & 0 & 0 & 0 & 0 & 0 & 0 & 0\\\\0 & 0 & 0 & 0.305555555555556 & -6.80359332859641 \\cdot 10^{-18} & -0.166666666666667 & 0 & 0 & 0\\\\0 & 0 & 0 & -6.80359332859641 \\cdot 10^{-18} & 0.354166666666667 & 0.375 & 0 & 0 & 0\\\\0 & 0 & 0 & -0.166666666666667 & 0.375 & 1.66666666666667 & 0 & 0 & 0\\\\0 & 0 & 0 & 0 & 0 & 0 & 0 & 0 & 0\\\\0 & 0 & 0 & 0 & 0 & 0 & 0 & 0 & 0\\\\0 & 0 & 0 & 0 & 0 & 0 & 0 & 0 & 0\\end{matrix}\\right]$"
            ],
            "text/plain": [
              "Matrix([\n",
              "[0, 0, 0,                     0,                     0,                  0, 0, 0, 0],\n",
              "[0, 0, 0,                     0,                     0,                  0, 0, 0, 0],\n",
              "[0, 0, 0,                     0,                     0,                  0, 0, 0, 0],\n",
              "[0, 0, 0,     0.305555555555556, -6.80359332859641e-18, -0.166666666666667, 0, 0, 0],\n",
              "[0, 0, 0, -6.80359332859641e-18,     0.354166666666667,              0.375, 0, 0, 0],\n",
              "[0, 0, 0,    -0.166666666666667,                 0.375,   1.66666666666667, 0, 0, 0],\n",
              "[0, 0, 0,                     0,                     0,                  0, 0, 0, 0],\n",
              "[0, 0, 0,                     0,                     0,                  0, 0, 0, 0],\n",
              "[0, 0, 0,                     0,                     0,                  0, 0, 0, 0]])"
            ]
          },
          "metadata": {},
          "output_type": "display_data"
        }
      ],
      "source": [
        "# calculate global matrix\n",
        "#number of elements * 6\n",
        "size = 3 + len(s.elements) * 3\n",
        "K_global = sp.zeros(size, size)\n",
        "\n",
        "# calculate global matrix\n",
        "for key, value in s.elements.items():\n",
        "\t# get local matrix\n",
        "\tK_local = K_locals[key]\n",
        "\t# get global indexes\n",
        "\tindex = (key - 1) * 3\n",
        "\n",
        "\t# add local matrix to global matrix\n",
        "\tfor i in range(6):\n",
        "\t\tfor j in range(6):\n",
        "\t\t\tK_global[index + i, index + j] += K_local[i, j]\n",
        "\n",
        "display(sp.Matrix(K_global))"
      ]
    },
    {
      "cell_type": "code",
      "execution_count": 54,
      "metadata": {},
      "outputs": [
        {
          "data": {
            "text/latex": [
              "$\\displaystyle \\left[\\begin{matrix}u_{0 x}\\\\u_{0 y}\\\\u_{0 m}\\\\u_{1 x}\\\\u_{1 y}\\\\u_{1 m}\\\\u_{2 x}\\\\u_{2 y}\\\\u_{2 m}\\end{matrix}\\right]$"
            ],
            "text/plain": [
              "Matrix([\n",
              "[u0_x],\n",
              "[u0_y],\n",
              "[u0_m],\n",
              "[u1_x],\n",
              "[u1_y],\n",
              "[u1_m],\n",
              "[u2_x],\n",
              "[u2_y],\n",
              "[u2_m]])"
            ]
          },
          "metadata": {},
          "output_type": "display_data"
        },
        {
          "data": {
            "text/latex": [
              "$\\displaystyle \\left[\\begin{matrix}0\\\\0\\\\0\\\\10.0\\\\-6.0\\\\0\\\\0\\\\0\\\\0\\end{matrix}\\right]$"
            ],
            "text/plain": [
              "Matrix([\n",
              "[   0],\n",
              "[   0],\n",
              "[   0],\n",
              "[10.0],\n",
              "[-6.0],\n",
              "[   0],\n",
              "[   0],\n",
              "[   0],\n",
              "[   0]])"
            ]
          },
          "metadata": {},
          "output_type": "display_data"
        }
      ],
      "source": [
        "# create a symbol for each node\n",
        "u = []\n",
        "for i in range(s.nodes.__len__()):\n",
        "\tu.append(sp.symbols(f'u{i}_x'))\n",
        "\tu.append(sp.symbols(f'u{i}_y'))\n",
        "\tu.append(sp.symbols(f'u{i}_m'))\n",
        "\n",
        "# matrix of displacements (with sympy symbols)\n",
        "u = sp.Matrix(u)\n",
        "\n",
        "display(sp.Matrix(u))\n",
        "\n",
        "# matrix of forces (get from nodes if is not fixed)\n",
        "F = sp.zeros(size, 1)\n",
        "for key, value in s.nodes.items():\n",
        "\tindex = key - 1\n",
        "\tif value.constraints[0] == 0:\n",
        "\t\tF[index * 3, 0] = value.loads[0]\n",
        "\tif value.constraints[1] == 0:\n",
        "\t\tF[index * 3 + 1, 0] = value.loads[1]\n",
        "\tif value.constraints[2] == 0:\n",
        "\t\tF[index * 3 + 2, 0] = value.loads[2]\n",
        "\n",
        "display(sp.Matrix(F))"
      ]
    },
    {
      "cell_type": "code",
      "execution_count": 55,
      "metadata": {},
      "outputs": [
        {
          "data": {
            "text/latex": [
              "$\\displaystyle \\left[\\begin{matrix}0\\\\0\\\\0\\\\- 0.166666666666667 u_{1 m} + 0.305555555555556 u_{1 x} - 6.80359332859641 \\cdot 10^{-18} u_{1 y} - 10.0\\\\0.375 u_{1 m} - 6.80359332859641 \\cdot 10^{-18} u_{1 x} + 0.354166666666667 u_{1 y} + 6.0\\\\1.66666666666667 u_{1 m} - 0.166666666666667 u_{1 x} + 0.375 u_{1 y}\\\\0\\\\0\\\\0\\end{matrix}\\right]$"
            ],
            "text/plain": [
              "Matrix([\n",
              "[                                                                                  0],\n",
              "[                                                                                  0],\n",
              "[                                                                                  0],\n",
              "[-0.166666666666667*u1_m + 0.305555555555556*u1_x - 6.80359332859641e-18*u1_y - 10.0],\n",
              "[              0.375*u1_m - 6.80359332859641e-18*u1_x + 0.354166666666667*u1_y + 6.0],\n",
              "[                        1.66666666666667*u1_m - 0.166666666666667*u1_x + 0.375*u1_y],\n",
              "[                                                                                  0],\n",
              "[                                                                                  0],\n",
              "[                                                                                  0]])"
            ]
          },
          "metadata": {},
          "output_type": "display_data"
        },
        {
          "data": {
            "text/plain": [
              "{u1_m: 10.0173913043478, u1_x: 38.1913043478261, u1_y: -27.5478260869565}"
            ]
          },
          "metadata": {},
          "output_type": "display_data"
        }
      ],
      "source": [
        "# solve - F + K*u = 0\n",
        "eq = - F + K_global * u\n",
        "display(eq)\n",
        "\n",
        "# solve for u\n",
        "u = sp.solve(eq, u)\n",
        "display(u)"
      ]
    }
  ],
  "metadata": {
    "colab": {
      "provenance": []
    },
    "kernelspec": {
      "display_name": "Python 3",
      "name": "python3"
    },
    "language_info": {
      "codemirror_mode": {
        "name": "ipython",
        "version": 3
      },
      "file_extension": ".py",
      "mimetype": "text/x-python",
      "name": "python",
      "nbconvert_exporter": "python",
      "pygments_lexer": "ipython3",
      "version": "3.10.11"
    }
  },
  "nbformat": 4,
  "nbformat_minor": 0
}
