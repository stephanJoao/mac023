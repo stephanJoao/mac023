{
  "cells": [
    {
      "cell_type": "code",
      "execution_count": 78,
      "metadata": {},
      "outputs": [],
      "source": [
        "# from google.colab import drive\n",
        "# drive.mount('/content/drive')"
      ]
    },
    {
      "cell_type": "code",
      "execution_count": 79,
      "metadata": {
        "colab": {
          "base_uri": "https://localhost:8080/"
        },
        "id": "IT3OZSwlBSKg",
        "outputId": "732761fb-5d67-453e-fb89-d2b68681713f"
      },
      "outputs": [],
      "source": [
        "import numpy as np\n",
        "import pylab as pl\n",
        "import pandas as pd\n",
        "import requests\n",
        "from io import BytesIO"
      ]
    },
    {
      "cell_type": "code",
      "execution_count": 80,
      "metadata": {
        "id": "QLm4H6d7I7TJ"
      },
      "outputs": [],
      "source": [
        "key='1ud8n0zzmJgrV6re45F9gsH2I9uEmSGS_oYHaTXx9E88'"
      ]
    },
    {
      "cell_type": "code",
      "execution_count": 81,
      "metadata": {
        "id": "e8pRjoKnI9O4"
      },
      "outputs": [],
      "source": [
        "def extract(key):\n",
        "    link = 'https://docs.google.com/spreadsheet/ccc?key=' + key + '&output=csv'\n",
        "\n",
        "    r = requests.get(url=link)\n",
        "    data = r.content\n",
        "\n",
        "    df = pd.read_table(BytesIO(data),header=None,sep=',')\n",
        "\n",
        "    return df"
      ]
    },
    {
      "cell_type": "code",
      "execution_count": 82,
      "metadata": {
        "colab": {
          "base_uri": "https://localhost:8080/"
        },
        "id": "OTuneyD9I-tW",
        "outputId": "8a896062-19f2-404e-9569-8e6df14ae490"
      },
      "outputs": [
        {
          "data": {
            "text/html": [
              "<div>\n",
              "<style scoped>\n",
              "    .dataframe tbody tr th:only-of-type {\n",
              "        vertical-align: middle;\n",
              "    }\n",
              "\n",
              "    .dataframe tbody tr th {\n",
              "        vertical-align: top;\n",
              "    }\n",
              "\n",
              "    .dataframe thead th {\n",
              "        text-align: right;\n",
              "    }\n",
              "</style>\n",
              "<table border=\"1\" class=\"dataframe\">\n",
              "  <thead>\n",
              "    <tr style=\"text-align: right;\">\n",
              "      <th></th>\n",
              "      <th>0</th>\n",
              "      <th>1</th>\n",
              "      <th>2</th>\n",
              "      <th>3</th>\n",
              "      <th>4</th>\n",
              "      <th>5</th>\n",
              "    </tr>\n",
              "  </thead>\n",
              "  <tbody>\n",
              "    <tr>\n",
              "      <th>0</th>\n",
              "      <td>3</td>\n",
              "      <td>NaN</td>\n",
              "      <td>NaN</td>\n",
              "      <td>NaN</td>\n",
              "      <td>NaN</td>\n",
              "      <td>NaN</td>\n",
              "    </tr>\n",
              "    <tr>\n",
              "      <th>1</th>\n",
              "      <td>1</td>\n",
              "      <td>0.0</td>\n",
              "      <td>0.0</td>\n",
              "      <td>1.0</td>\n",
              "      <td>1.0</td>\n",
              "      <td>1.0</td>\n",
              "    </tr>\n",
              "    <tr>\n",
              "      <th>2</th>\n",
              "      <td>2</td>\n",
              "      <td>0.0</td>\n",
              "      <td>6.0</td>\n",
              "      <td>0.0</td>\n",
              "      <td>0.0</td>\n",
              "      <td>0.0</td>\n",
              "    </tr>\n",
              "    <tr>\n",
              "      <th>3</th>\n",
              "      <td>3</td>\n",
              "      <td>4.0</td>\n",
              "      <td>6.0</td>\n",
              "      <td>1.0</td>\n",
              "      <td>1.0</td>\n",
              "      <td>1.0</td>\n",
              "    </tr>\n",
              "    <tr>\n",
              "      <th>4</th>\n",
              "      <td>2</td>\n",
              "      <td>NaN</td>\n",
              "      <td>NaN</td>\n",
              "      <td>NaN</td>\n",
              "      <td>NaN</td>\n",
              "      <td>NaN</td>\n",
              "    </tr>\n",
              "    <tr>\n",
              "      <th>5</th>\n",
              "      <td>1</td>\n",
              "      <td>1.0</td>\n",
              "      <td>2.0</td>\n",
              "      <td>1.0</td>\n",
              "      <td>1.0</td>\n",
              "      <td>1.0</td>\n",
              "    </tr>\n",
              "    <tr>\n",
              "      <th>6</th>\n",
              "      <td>2</td>\n",
              "      <td>2.0</td>\n",
              "      <td>3.0</td>\n",
              "      <td>1.0</td>\n",
              "      <td>1.0</td>\n",
              "      <td>1.0</td>\n",
              "    </tr>\n",
              "    <tr>\n",
              "      <th>7</th>\n",
              "      <td>2</td>\n",
              "      <td>NaN</td>\n",
              "      <td>NaN</td>\n",
              "      <td>NaN</td>\n",
              "      <td>NaN</td>\n",
              "      <td>NaN</td>\n",
              "    </tr>\n",
              "    <tr>\n",
              "      <th>8</th>\n",
              "      <td>2</td>\n",
              "      <td>10.0</td>\n",
              "      <td>0.0</td>\n",
              "      <td>NaN</td>\n",
              "      <td>NaN</td>\n",
              "      <td>NaN</td>\n",
              "    </tr>\n",
              "    <tr>\n",
              "      <th>9</th>\n",
              "      <td>2</td>\n",
              "      <td>0.0</td>\n",
              "      <td>-6.0</td>\n",
              "      <td>NaN</td>\n",
              "      <td>NaN</td>\n",
              "      <td>NaN</td>\n",
              "    </tr>\n",
              "    <tr>\n",
              "      <th>10</th>\n",
              "      <td>0</td>\n",
              "      <td>NaN</td>\n",
              "      <td>NaN</td>\n",
              "      <td>NaN</td>\n",
              "      <td>NaN</td>\n",
              "      <td>NaN</td>\n",
              "    </tr>\n",
              "  </tbody>\n",
              "</table>\n",
              "</div>"
            ],
            "text/plain": [
              "    0     1    2    3    4    5\n",
              "0   3   NaN  NaN  NaN  NaN  NaN\n",
              "1   1   0.0  0.0  1.0  1.0  1.0\n",
              "2   2   0.0  6.0  0.0  0.0  0.0\n",
              "3   3   4.0  6.0  1.0  1.0  1.0\n",
              "4   2   NaN  NaN  NaN  NaN  NaN\n",
              "5   1   1.0  2.0  1.0  1.0  1.0\n",
              "6   2   2.0  3.0  1.0  1.0  1.0\n",
              "7   2   NaN  NaN  NaN  NaN  NaN\n",
              "8   2  10.0  0.0  NaN  NaN  NaN\n",
              "9   2   0.0 -6.0  NaN  NaN  NaN\n",
              "10  0   NaN  NaN  NaN  NaN  NaN"
            ]
          },
          "execution_count": 82,
          "metadata": {},
          "output_type": "execute_result"
        }
      ],
      "source": [
        "# df = extract(key)\n",
        "df = pd.read_excel('Pórtico 1.xlsx', header=None)\n",
        "df"
      ]
    },
    {
      "cell_type": "code",
      "execution_count": 83,
      "metadata": {},
      "outputs": [],
      "source": [
        "class node:\n",
        "\tdef __init__(self, x, y, constraints):\n",
        "\t\tself.x = x\n",
        "\t\tself.y = y\n",
        "\t\tself.constraints = constraints\n",
        "\n",
        "\tdef __str__(self):\n",
        "\t\treturn f'Node - x: {self.x}, y: {self.y}, constraints: {self.constraints}'"
      ]
    },
    {
      "cell_type": "code",
      "execution_count": 84,
      "metadata": {},
      "outputs": [],
      "source": [
        "class element:\n",
        "\tdef __init__(self, node1, node2, E, A, I):\n",
        "\t\tself.node1 = node1\n",
        "\t\tself.node2 = node2\n",
        "\t\tself.L = np.sqrt((node1.x - node2.x)**2 + (node1.y - node2.y)**2)\n",
        "\t\tself.E = E\n",
        "\t\tself.A = A\n",
        "\t\tself.I = I\n",
        "\n",
        "\tdef __str__(self):\n",
        "\t\treturn f'Element - node1: {self.node1}, node2: {self.node2}, L: {self.L}, E: {self.E}, A: {self.A}, I: {self.I}'\n"
      ]
    },
    {
      "cell_type": "code",
      "execution_count": 85,
      "metadata": {},
      "outputs": [],
      "source": [
        "class structure:\n",
        "\tdef __init__(self, df):\n",
        "\t\tself.nodes = {}\n",
        "\t\tself.elements = {}\n",
        "\n",
        "\t\tpos = 0\n",
        "\t\tn_nodes = df.iloc[pos, 0]\n",
        "\t\tpos = pos + 1\n",
        "\n",
        "\t\tfor _ in range(1, n_nodes+1):\n",
        "\t\t\tself.nodes[df.iloc[pos, 0]] = node(df.iloc[pos, 1], df.iloc[pos, 2], [df.iloc[pos, 3], df.iloc[pos, 4], df.iloc[pos, 5]])\n",
        "\t\t\tpos += 1\n",
        "\t\t\n",
        "\t\tn_elements = df.iloc[pos, 0]\n",
        "\t\tpos = pos + 1\n",
        "\n",
        "\t\tfor _ in range(1, n_elements+1):\n",
        "\t\t\tself.elements[df.iloc[pos, 0]] = element(self.nodes[df.iloc[pos, 1]], self.nodes[df.iloc[pos, 2]], df.iloc[pos, 3], df.iloc[pos, 4], df.iloc[pos, 5])\n",
        "\t\t\tpos += 1\n",
        "\n",
        "\tdef __str__(self):\n",
        "\t\ts = 'Structure - nodes: \\n'\t\n",
        "\t\tfor key, value in self.nodes.items():\n",
        "\t\t\ts += f'{key}: {value}\\n'\n",
        "\t\tfor key, value in self.elements.items():\n",
        "\t\t\ts += f'{key}: {value}\\n'\n",
        "\t\treturn s"
      ]
    },
    {
      "cell_type": "code",
      "execution_count": 86,
      "metadata": {},
      "outputs": [
        {
          "name": "stdout",
          "output_type": "stream",
          "text": [
            "Structure - nodes: \n",
            "1: Node - x: 0.0, y: 0.0, constraints: [1.0, 1.0, 1.0]\n",
            "2: Node - x: 0.0, y: 6.0, constraints: [0.0, 0.0, 0.0]\n",
            "3: Node - x: 4.0, y: 6.0, constraints: [1.0, 1.0, 1.0]\n",
            "1: Element - node1: Node - x: 0.0, y: 0.0, constraints: [1.0, 1.0, 1.0], node2: Node - x: 0.0, y: 6.0, constraints: [0.0, 0.0, 0.0], L: 6.0, E: 1.0, A: 1.0, I: 1.0\n",
            "2: Element - node1: Node - x: 0.0, y: 6.0, constraints: [0.0, 0.0, 0.0], node2: Node - x: 4.0, y: 6.0, constraints: [1.0, 1.0, 1.0], L: 4.0, E: 1.0, A: 1.0, I: 1.0\n",
            "\n"
          ]
        }
      ],
      "source": [
        "s = structure(df)\n",
        "\n",
        "print(s)"
      ]
    },
    {
      "cell_type": "code",
      "execution_count": 87,
      "metadata": {},
      "outputs": [],
      "source": [
        "def transform(data, log=False):\n",
        "    nodes = {}\n",
        "    supports = {}\n",
        "    conec = []\n",
        "    loads = {}\n",
        "\n",
        "    pos = 0\n",
        "\n",
        "    n_nodes = data.iloc[0, 0]\n",
        "    pos = pos + 1\n",
        "\n",
        "    for i in range(pos, pos + n_nodes):\n",
        "        node_id = str(data.iloc[i, 0])\n",
        "        nodes[node_id] = [data.iloc[i, 1], data.iloc[i, 2]]\n",
        "        supports[node_id] = (data.iloc[i, 4], data.iloc[i, 5], data.iloc[i, 6])\n",
        "        pos = pos + 1\n",
        "\n",
        "    n_conec = data.iloc[pos, 0]\n",
        "    pos = pos + 1\n",
        "\n",
        "    for i in range(pos, pos + n_conec):\n",
        "        conec.append([str(int(data.iloc[i, 1])), str(int(data.iloc[i, 2]))])\n",
        "        pos = pos + 1\n",
        "\n",
        "    n_loads = data.iloc[pos, 0]\n",
        "    pos = pos + 1\n",
        "\n",
        "    for i in range(pos, pos + n_loads):\n",
        "        node_id = str(data.iloc[i, 0])\n",
        "        if loads.get(node_id) is None:\n",
        "            loads[node_id] = [data.iloc[i, 1], data.iloc[i, 2], data.iloc[i, 3]]\n",
        "        else:\n",
        "            loads[node_id][0] += data.iloc[i, 1]\n",
        "            loads[node_id][1] += data.iloc[i, 2]\n",
        "            loads[node_id][2] += data.iloc[i, 3]\n",
        "        pos = pos + 1\n",
        "\n",
        "    if log:\n",
        "        print(\"Nodes: \\n\")\n",
        "        print(nodes)\n",
        "        print(\"\\nSupports: \\n\")\n",
        "        print(supports)\n",
        "        print(\"\\nConections: \\n\")\n",
        "        print(conec)\n",
        "        print(\"\\nLoads: \\n\")\n",
        "        print(loads)\n",
        "\n",
        "    structure_data = {'nodes':nodes, 'supports':supports, 'conec':conec, 'loads':loads}\n",
        "    # print(structure_data)\n",
        "\n",
        "    return structure_data"
      ]
    }
  ],
  "metadata": {
    "colab": {
      "provenance": []
    },
    "kernelspec": {
      "display_name": "Python 3",
      "name": "python3"
    },
    "language_info": {
      "codemirror_mode": {
        "name": "ipython",
        "version": 3
      },
      "file_extension": ".py",
      "mimetype": "text/x-python",
      "name": "python",
      "nbconvert_exporter": "python",
      "pygments_lexer": "ipython3",
      "version": "3.10.11"
    }
  },
  "nbformat": 4,
  "nbformat_minor": 0
}
